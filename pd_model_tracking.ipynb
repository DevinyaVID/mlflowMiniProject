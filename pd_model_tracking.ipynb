{
 "cells": [
  {
   "cell_type": "markdown",
   "metadata": {},
   "source": [
    "Probability of Default (PD) Prediction Model with MLflow Tracking and Registry"
   ]
  },
  {
   "cell_type": "code",
   "execution_count": 1,
   "metadata": {},
   "outputs": [
    {
     "name": "stdout",
     "output_type": "stream",
     "text": [
      "Requirement already satisfied: pandas in e:\\mlflowminiproject\\venv\\lib\\site-packages (2.2.3)\n",
      "Requirement already satisfied: scikit-learn in e:\\mlflowminiproject\\venv\\lib\\site-packages (1.6.1)\n",
      "Collecting matplotlib\n",
      "  Using cached matplotlib-3.10.1-cp311-cp311-win_amd64.whl (8.1 MB)\n",
      "Collecting seaborn\n",
      "  Using cached seaborn-0.13.2-py3-none-any.whl (294 kB)\n",
      "Collecting mlflow\n",
      "  Using cached mlflow-2.21.3-py3-none-any.whl (28.2 MB)\n",
      "Requirement already satisfied: numpy>=1.23.2 in e:\\mlflowminiproject\\venv\\lib\\site-packages (from pandas) (2.2.4)\n",
      "Requirement already satisfied: python-dateutil>=2.8.2 in e:\\mlflowminiproject\\venv\\lib\\site-packages (from pandas) (2.9.0.post0)\n",
      "Requirement already satisfied: pytz>=2020.1 in e:\\mlflowminiproject\\venv\\lib\\site-packages (from pandas) (2025.2)\n",
      "Requirement already satisfied: tzdata>=2022.7 in e:\\mlflowminiproject\\venv\\lib\\site-packages (from pandas) (2025.2)\n",
      "Requirement already satisfied: scipy>=1.6.0 in e:\\mlflowminiproject\\venv\\lib\\site-packages (from scikit-learn) (1.15.2)\n",
      "Requirement already satisfied: joblib>=1.2.0 in e:\\mlflowminiproject\\venv\\lib\\site-packages (from scikit-learn) (1.4.2)\n",
      "Requirement already satisfied: threadpoolctl>=3.1.0 in e:\\mlflowminiproject\\venv\\lib\\site-packages (from scikit-learn) (3.6.0)\n",
      "Requirement already satisfied: contourpy>=1.0.1 in e:\\mlflowminiproject\\venv\\lib\\site-packages (from matplotlib) (1.3.1)\n",
      "Requirement already satisfied: cycler>=0.10 in e:\\mlflowminiproject\\venv\\lib\\site-packages (from matplotlib) (0.12.1)\n",
      "Requirement already satisfied: fonttools>=4.22.0 in e:\\mlflowminiproject\\venv\\lib\\site-packages (from matplotlib) (4.57.0)\n",
      "Requirement already satisfied: kiwisolver>=1.3.1 in e:\\mlflowminiproject\\venv\\lib\\site-packages (from matplotlib) (1.4.8)\n",
      "Requirement already satisfied: packaging>=20.0 in e:\\mlflowminiproject\\venv\\lib\\site-packages (from matplotlib) (24.2)\n",
      "Requirement already satisfied: pillow>=8 in e:\\mlflowminiproject\\venv\\lib\\site-packages (from matplotlib) (11.1.0)\n",
      "Requirement already satisfied: pyparsing>=2.3.1 in e:\\mlflowminiproject\\venv\\lib\\site-packages (from matplotlib) (3.2.3)\n",
      "Collecting mlflow-skinny==2.21.3\n",
      "  Using cached mlflow_skinny-2.21.3-py3-none-any.whl (6.1 MB)\n",
      "Collecting Flask<4\n",
      "  Using cached flask-3.1.0-py3-none-any.whl (102 kB)\n",
      "Requirement already satisfied: Jinja2<4,>=3.0 in e:\\mlflowminiproject\\venv\\lib\\site-packages (from mlflow) (3.1.6)\n",
      "Collecting alembic!=1.10.0,<2\n",
      "  Using cached alembic-1.15.2-py3-none-any.whl (231 kB)\n",
      "Collecting docker<8,>=4.0.0\n",
      "  Using cached docker-7.1.0-py3-none-any.whl (147 kB)\n",
      "Collecting graphene<4\n",
      "  Using cached graphene-3.4.3-py2.py3-none-any.whl (114 kB)\n",
      "Requirement already satisfied: markdown<4,>=3.3 in e:\\mlflowminiproject\\venv\\lib\\site-packages (from mlflow) (3.7)\n",
      "Requirement already satisfied: pyarrow<20,>=4.0.0 in e:\\mlflowminiproject\\venv\\lib\\site-packages (from mlflow) (19.0.1)\n",
      "Requirement already satisfied: sqlalchemy<3,>=1.4.0 in e:\\mlflowminiproject\\venv\\lib\\site-packages (from mlflow) (2.0.40)\n",
      "Requirement already satisfied: waitress<4 in e:\\mlflowminiproject\\venv\\lib\\site-packages (from mlflow) (3.0.2)\n",
      "Requirement already satisfied: cachetools<6,>=5.0.0 in e:\\mlflowminiproject\\venv\\lib\\site-packages (from mlflow-skinny==2.21.3->mlflow) (5.5.2)\n",
      "Requirement already satisfied: click<9,>=7.0 in e:\\mlflowminiproject\\venv\\lib\\site-packages (from mlflow-skinny==2.21.3->mlflow) (8.1.8)\n",
      "Requirement already satisfied: cloudpickle<4 in e:\\mlflowminiproject\\venv\\lib\\site-packages (from mlflow-skinny==2.21.3->mlflow) (3.1.1)\n",
      "Collecting databricks-sdk<1,>=0.20.0\n",
      "  Using cached databricks_sdk-0.49.0-py3-none-any.whl (683 kB)\n",
      "Collecting fastapi<1\n",
      "  Using cached fastapi-0.115.12-py3-none-any.whl (95 kB)\n",
      "Collecting gitpython<4,>=3.1.9\n",
      "  Using cached GitPython-3.1.44-py3-none-any.whl (207 kB)\n",
      "Requirement already satisfied: importlib_metadata!=4.7.0,<9,>=3.7.0 in e:\\mlflowminiproject\\venv\\lib\\site-packages (from mlflow-skinny==2.21.3->mlflow) (8.6.1)\n",
      "Collecting opentelemetry-api<3,>=1.9.0\n",
      "  Using cached opentelemetry_api-1.31.1-py3-none-any.whl (65 kB)\n",
      "Collecting opentelemetry-sdk<3,>=1.9.0\n",
      "  Using cached opentelemetry_sdk-1.31.1-py3-none-any.whl (118 kB)\n",
      "Requirement already satisfied: protobuf<6,>=3.12.0 in e:\\mlflowminiproject\\venv\\lib\\site-packages (from mlflow-skinny==2.21.3->mlflow) (5.29.4)\n",
      "Requirement already satisfied: pydantic<3,>=1.10.8 in e:\\mlflowminiproject\\venv\\lib\\site-packages (from mlflow-skinny==2.21.3->mlflow) (2.11.2)\n",
      "Requirement already satisfied: pyyaml<7,>=5.1 in e:\\mlflowminiproject\\venv\\lib\\site-packages (from mlflow-skinny==2.21.3->mlflow) (6.0.2)\n",
      "Requirement already satisfied: requests<3,>=2.17.3 in e:\\mlflowminiproject\\venv\\lib\\site-packages (from mlflow-skinny==2.21.3->mlflow) (2.32.3)\n",
      "Requirement already satisfied: sqlparse<1,>=0.4.0 in e:\\mlflowminiproject\\venv\\lib\\site-packages (from mlflow-skinny==2.21.3->mlflow) (0.5.3)\n",
      "Requirement already satisfied: typing-extensions<5,>=4.0.0 in e:\\mlflowminiproject\\venv\\lib\\site-packages (from mlflow-skinny==2.21.3->mlflow) (4.13.1)\n",
      "Requirement already satisfied: uvicorn<1 in e:\\mlflowminiproject\\venv\\lib\\site-packages (from mlflow-skinny==2.21.3->mlflow) (0.34.0)\n",
      "Requirement already satisfied: Mako in e:\\mlflowminiproject\\venv\\lib\\site-packages (from alembic!=1.10.0,<2->mlflow) (1.3.9)\n",
      "Requirement already satisfied: pywin32>=304 in e:\\mlflowminiproject\\venv\\lib\\site-packages (from docker<8,>=4.0.0->mlflow) (310)\n",
      "Requirement already satisfied: urllib3>=1.26.0 in e:\\mlflowminiproject\\venv\\lib\\site-packages (from docker<8,>=4.0.0->mlflow) (2.3.0)\n",
      "Requirement already satisfied: Werkzeug>=3.1 in e:\\mlflowminiproject\\venv\\lib\\site-packages (from Flask<4->mlflow) (3.1.3)\n",
      "Requirement already satisfied: itsdangerous>=2.2 in e:\\mlflowminiproject\\venv\\lib\\site-packages (from Flask<4->mlflow) (2.2.0)\n",
      "Requirement already satisfied: blinker>=1.9 in e:\\mlflowminiproject\\venv\\lib\\site-packages (from Flask<4->mlflow) (1.9.0)\n",
      "Requirement already satisfied: graphql-core<3.3,>=3.1 in e:\\mlflowminiproject\\venv\\lib\\site-packages (from graphene<4->mlflow) (3.2.6)\n",
      "Requirement already satisfied: graphql-relay<3.3,>=3.1 in e:\\mlflowminiproject\\venv\\lib\\site-packages (from graphene<4->mlflow) (3.2.0)\n",
      "Requirement already satisfied: MarkupSafe>=2.0 in e:\\mlflowminiproject\\venv\\lib\\site-packages (from Jinja2<4,>=3.0->mlflow) (3.0.2)\n",
      "Requirement already satisfied: six>=1.5 in e:\\mlflowminiproject\\venv\\lib\\site-packages (from python-dateutil>=2.8.2->pandas) (1.17.0)\n",
      "Requirement already satisfied: greenlet>=1 in e:\\mlflowminiproject\\venv\\lib\\site-packages (from sqlalchemy<3,>=1.4.0->mlflow) (3.1.1)\n",
      "Requirement already satisfied: colorama in e:\\mlflowminiproject\\venv\\lib\\site-packages (from click<9,>=7.0->mlflow-skinny==2.21.3->mlflow) (0.4.6)\n",
      "Collecting google-auth~=2.0\n",
      "  Using cached google_auth-2.38.0-py2.py3-none-any.whl (210 kB)\n",
      "Requirement already satisfied: starlette<0.47.0,>=0.40.0 in e:\\mlflowminiproject\\venv\\lib\\site-packages (from fastapi<1->mlflow-skinny==2.21.3->mlflow) (0.46.1)\n",
      "Requirement already satisfied: gitdb<5,>=4.0.1 in e:\\mlflowminiproject\\venv\\lib\\site-packages (from gitpython<4,>=3.1.9->mlflow-skinny==2.21.3->mlflow) (4.0.12)\n",
      "Requirement already satisfied: zipp>=3.20 in e:\\mlflowminiproject\\venv\\lib\\site-packages (from importlib_metadata!=4.7.0,<9,>=3.7.0->mlflow-skinny==2.21.3->mlflow) (3.21.0)\n",
      "Requirement already satisfied: deprecated>=1.2.6 in e:\\mlflowminiproject\\venv\\lib\\site-packages (from opentelemetry-api<3,>=1.9.0->mlflow-skinny==2.21.3->mlflow) (1.2.18)\n",
      "Collecting opentelemetry-semantic-conventions==0.52b1\n",
      "  Using cached opentelemetry_semantic_conventions-0.52b1-py3-none-any.whl (183 kB)\n",
      "Requirement already satisfied: annotated-types>=0.6.0 in e:\\mlflowminiproject\\venv\\lib\\site-packages (from pydantic<3,>=1.10.8->mlflow-skinny==2.21.3->mlflow) (0.7.0)\n",
      "Requirement already satisfied: pydantic-core==2.33.1 in e:\\mlflowminiproject\\venv\\lib\\site-packages (from pydantic<3,>=1.10.8->mlflow-skinny==2.21.3->mlflow) (2.33.1)\n",
      "Requirement already satisfied: typing-inspection>=0.4.0 in e:\\mlflowminiproject\\venv\\lib\\site-packages (from pydantic<3,>=1.10.8->mlflow-skinny==2.21.3->mlflow) (0.4.0)\n",
      "Requirement already satisfied: charset-normalizer<4,>=2 in e:\\mlflowminiproject\\venv\\lib\\site-packages (from requests<3,>=2.17.3->mlflow-skinny==2.21.3->mlflow) (3.4.1)\n",
      "Requirement already satisfied: idna<4,>=2.5 in e:\\mlflowminiproject\\venv\\lib\\site-packages (from requests<3,>=2.17.3->mlflow-skinny==2.21.3->mlflow) (3.10)\n",
      "Requirement already satisfied: certifi>=2017.4.17 in e:\\mlflowminiproject\\venv\\lib\\site-packages (from requests<3,>=2.17.3->mlflow-skinny==2.21.3->mlflow) (2025.1.31)\n",
      "Requirement already satisfied: h11>=0.8 in e:\\mlflowminiproject\\venv\\lib\\site-packages (from uvicorn<1->mlflow-skinny==2.21.3->mlflow) (0.14.0)\n",
      "Requirement already satisfied: wrapt<2,>=1.10 in e:\\mlflowminiproject\\venv\\lib\\site-packages (from deprecated>=1.2.6->opentelemetry-api<3,>=1.9.0->mlflow-skinny==2.21.3->mlflow) (1.17.2)\n",
      "Requirement already satisfied: smmap<6,>=3.0.1 in e:\\mlflowminiproject\\venv\\lib\\site-packages (from gitdb<5,>=4.0.1->gitpython<4,>=3.1.9->mlflow-skinny==2.21.3->mlflow) (5.0.2)\n",
      "Requirement already satisfied: pyasn1-modules>=0.2.1 in e:\\mlflowminiproject\\venv\\lib\\site-packages (from google-auth~=2.0->databricks-sdk<1,>=0.20.0->mlflow-skinny==2.21.3->mlflow) (0.4.2)\n",
      "Requirement already satisfied: rsa<5,>=3.1.4 in e:\\mlflowminiproject\\venv\\lib\\site-packages (from google-auth~=2.0->databricks-sdk<1,>=0.20.0->mlflow-skinny==2.21.3->mlflow) (4.9)\n",
      "Requirement already satisfied: anyio<5,>=3.6.2 in e:\\mlflowminiproject\\venv\\lib\\site-packages (from starlette<0.47.0,>=0.40.0->fastapi<1->mlflow-skinny==2.21.3->mlflow) (4.9.0)\n",
      "Requirement already satisfied: sniffio>=1.1 in e:\\mlflowminiproject\\venv\\lib\\site-packages (from anyio<5,>=3.6.2->starlette<0.47.0,>=0.40.0->fastapi<1->mlflow-skinny==2.21.3->mlflow) (1.3.1)\n",
      "Requirement already satisfied: pyasn1<0.7.0,>=0.6.1 in e:\\mlflowminiproject\\venv\\lib\\site-packages (from pyasn1-modules>=0.2.1->google-auth~=2.0->databricks-sdk<1,>=0.20.0->mlflow-skinny==2.21.3->mlflow) (0.6.1)\n",
      "Installing collected packages: opentelemetry-api, matplotlib, graphene, google-auth, gitpython, Flask, docker, alembic, seaborn, opentelemetry-semantic-conventions, fastapi, databricks-sdk, opentelemetry-sdk, mlflow-skinny, mlflow\n",
      "Successfully installed Flask-3.1.0 alembic-1.15.2 databricks-sdk-0.49.0 docker-7.1.0 fastapi-0.115.12 gitpython-3.1.44 google-auth-2.38.0 graphene-3.4.3 matplotlib-3.10.1 mlflow-2.21.3 mlflow-skinny-2.21.3 opentelemetry-api-1.31.1 opentelemetry-sdk-1.31.1 opentelemetry-semantic-conventions-0.52b1 seaborn-0.13.2\n"
     ]
    },
    {
     "name": "stderr",
     "output_type": "stream",
     "text": [
      "\n",
      "[notice] A new release of pip available: 22.3.1 -> 25.0.1\n",
      "[notice] To update, run: python.exe -m pip install --upgrade pip\n"
     ]
    }
   ],
   "source": [
    "!pip install pandas scikit-learn matplotlib seaborn mlflow"
   ]
  },
  {
   "cell_type": "code",
   "execution_count": 2,
   "metadata": {},
   "outputs": [],
   "source": [
    "import pandas as pd\n",
    "import numpy as np\n",
    "import matplotlib.pyplot as plt\n",
    "import seaborn as sns\n",
    "import mlflow\n",
    "import mlflow.sklearn\n",
    "\n",
    "from sklearn.datasets import make_classification\n",
    "from sklearn.model_selection import train_test_split\n",
    "from sklearn.ensemble import RandomForestClassifier\n",
    "from sklearn.metrics import accuracy_score, roc_auc_score, confusion_matrix\n"
   ]
  },
  {
   "cell_type": "code",
   "execution_count": 3,
   "metadata": {},
   "outputs": [],
   "source": [
    "X, y = make_classification(\n",
    "    n_samples=1000, n_features=10, n_informative=6, n_redundant=2,\n",
    "    weights=[0.7, 0.3], flip_y=0.01, random_state=42\n",
    ")\n",
    "\n",
    "X_train, X_test, y_train, y_test = train_test_split(X, y, test_size=0.4, random_state=42)\n"
   ]
  },
  {
   "cell_type": "code",
   "execution_count": 4,
   "metadata": {},
   "outputs": [
    {
     "name": "stdout",
     "output_type": "stream",
     "text": [
      "Accuracy: 0.8625\n",
      "ROC AUC: 0.9260668659961947\n"
     ]
    }
   ],
   "source": [
    "model = RandomForestClassifier(n_estimators=100, max_depth=5, random_state=42)\n",
    "model.fit(X_train, y_train)\n",
    "\n",
    "y_preds = model.predict(X_test)\n",
    "y_probs = model.predict_proba(X_test)[:, 1]\n",
    "\n",
    "accuracy = accuracy_score(y_test, y_preds)\n",
    "roc_auc = roc_auc_score(y_test, y_probs)\n",
    "\n",
    "print(\"Accuracy:\", accuracy)\n",
    "print(\"ROC AUC:\", roc_auc)\n"
   ]
  },
  {
   "cell_type": "code",
   "execution_count": 5,
   "metadata": {},
   "outputs": [
    {
     "name": "stderr",
     "output_type": "stream",
     "text": [
      "2025/04/06 10:30:34 INFO mlflow.tracking.fluent: Experiment with name 'PD_Classification_Experiment' does not exist. Creating a new experiment.\n",
      "2025/04/06 10:30:34 WARNING mlflow.utils.git_utils: Failed to import Git (the Git executable is probably not on your PATH), so Git SHA is not available. Error: Failed to initialize: Bad git executable.\n",
      "The git executable must be specified in one of the following ways:\n",
      "    - be included in your $PATH\n",
      "    - be set via $GIT_PYTHON_GIT_EXECUTABLE\n",
      "    - explicitly set via git.refresh(<full-path-to-git-executable>)\n",
      "\n",
      "All git commands will error until this is rectified.\n",
      "\n",
      "This initial message can be silenced or aggravated in the future by setting the\n",
      "$GIT_PYTHON_REFRESH environment variable. Use one of the following values:\n",
      "    - quiet|q|silence|s|silent|none|n|0: for no message or exception\n",
      "    - warn|w|warning|log|l|1: for a warning message (logging level CRITICAL, displayed by default)\n",
      "    - error|e|exception|raise|r|2: for a raised exception\n",
      "\n",
      "Example:\n",
      "    export GIT_PYTHON_REFRESH=quiet\n",
      "\n",
      "2025/04/06 10:30:40 WARNING mlflow.models.model: Model logged without a signature and input example. Please set `input_example` parameter when logging the model to auto infer the model signature.\n",
      "Successfully registered model 'pd_model_v1'.\n",
      "Created version '1' of model 'pd_model_v1'.\n"
     ]
    },
    {
     "data": {
      "image/png": "[encoded data removed]",
      "text/plain": [
       "<Figure size 600x400 with 2 Axes>"
      ]
     },
     "metadata": {},
     "output_type": "display_data"
    }
   ],
   "source": [
    "mlflow.set_experiment(\"PD_Classification_Experiment\")\n",
    "\n",
    "with mlflow.start_run():\n",
    "    mlflow.log_param(\"model_type\", \"RandomForest\")\n",
    "    mlflow.log_param(\"n_estimators\", 100)\n",
    "    mlflow.log_param(\"max_depth\", 5)\n",
    "    \n",
    "    mlflow.log_metric(\"accuracy\", accuracy)\n",
    "    mlflow.log_metric(\"roc_auc\", roc_auc)\n",
    "\n",
    "    cm = confusion_matrix(y_test, y_preds)\n",
    "    plt.figure(figsize=(6,4))\n",
    "    sns.heatmap(cm, annot=True, fmt=\"d\", cmap=\"Blues\")\n",
    "    plt.title(\"Confusion Matrix\")\n",
    "    plt.xlabel(\"Predicted\")\n",
    "    plt.ylabel(\"Actual\")\n",
    "    plt.tight_layout()\n",
    "    plt.savefig(\"conf_matrix.png\")\n",
    "    mlflow.log_artifact(\"conf_matrix.png\")\n",
    "\n",
    "    mlflow.sklearn.log_model(model, \"model\", registered_model_name=\"pd_model_v1\")\n"
   ]
  },
  {
   "cell_type": "code",
   "execution_count": 7,
   "metadata": {},
   "outputs": [
    {
     "name": "stdout",
     "output_type": "stream",
     "text": [
      "Predicted Default Probabilities: [0.39088214 0.62193869 0.32424404]\n"
     ]
    }
   ],
   "source": [
    "loaded_model = mlflow.sklearn.load_model(\"models:/pd_model_v1/latest\")\n",
    "X_new = np.random.rand(3, 10)\n",
    "predicted_probs = loaded_model.predict_proba(X_new)[:, 1]\n",
    "\n",
    "print(\"Predicted Default Probabilities:\", predicted_probs)\n"
   ]
  },
  {
   "cell_type": "code",
   "execution_count": 8,
   "metadata": {},
   "outputs": [
    {
     "name": "stderr",
     "output_type": "stream",
     "text": [
      "C:\\Users\\Home\\AppData\\Local\\Temp\\ipykernel_26824\\1900257192.py:4: FutureWarning: ``mlflow.tracking.client.MlflowClient.transition_model_version_stage`` is deprecated since 2.9.0. Model registry stages will be removed in a future major release. To learn more about the deprecation of model registry stages, see our migration guide here: https://mlflow.org/docs/latest/model-registry.html#migrating-from-stages\n",
      "  client.transition_model_version_stage(\n"
     ]
    },
    {
     "data": {
      "text/plain": [
       "<ModelVersion: aliases=[], creation_timestamp=1743915640361, current_stage='Production', description=None, last_updated_timestamp=1743916009212, name='pd_model_v1', run_id='009e2e4a78594b53b81da6a8b2f171ff', run_link=None, source='file:///e:/mlflowMiniProject/mlruns/498475943045699718/009e2e4a78594b53b81da6a8b2f171ff/artifacts/model', status='READY', status_message=None, tags={}, user_id=None, version=1>"
      ]
     },
     "execution_count": 8,
     "metadata": {},
     "output_type": "execute_result"
    }
   ],
   "source": [
    "from mlflow.tracking import MlflowClient\n",
    "\n",
    "client = MlflowClient()\n",
    "client.transition_model_version_stage(\n",
    "    name=\"pd_model_v1\",\n",
    "    version=1,  # Replace with actual version from UI\n",
    "    stage=\"Production\"\n",
    ")\n"
   ]
  },
  {
   "cell_type": "code",
   "execution_count": 9,
   "metadata": {},
   "outputs": [
    {
     "data": {
      "image/png": "[encoded data removed]",
      "text/plain": [
       "<Figure size 640x480 with 1 Axes>"
      ]
     },
     "metadata": {},
     "output_type": "display_data"
    }
   ],
   "source": [
    "from sklearn.metrics import roc_curve\n",
    "\n",
    "fpr, tpr, _ = roc_curve(y_test, y_probs)\n",
    "plt.figure()\n",
    "plt.plot(fpr, tpr, label=\"ROC Curve\")\n",
    "plt.xlabel(\"False Positive Rate\")\n",
    "plt.ylabel(\"True Positive Rate\")\n",
    "plt.title(\"Receiver Operating Characteristic\")\n",
    "plt.legend()\n",
    "plt.savefig(\"roc_curve.png\")\n",
    "mlflow.log_artifact(\"roc_curve.png\")\n"
   ]
  },
  {
   "cell_type": "code",
   "execution_count": 10,
   "metadata": {},
   "outputs": [
    {
     "name": "stdout",
     "output_type": "stream",
     "text": [
      "Best Parameters: {'max_depth': 7, 'n_estimators': 50}\n"
     ]
    }
   ],
   "source": [
    "from sklearn.model_selection import GridSearchCV\n",
    "\n",
    "params = {'max_depth': [3, 5, 7], 'n_estimators': [50, 100, 150]}\n",
    "grid = GridSearchCV(RandomForestClassifier(random_state=42), param_grid=params, cv=3)\n",
    "grid.fit(X_train, y_train)\n",
    "\n",
    "print(\"Best Parameters:\", grid.best_params_)\n"
   ]
  },
  {
   "cell_type": "code",
   "execution_count": null,
   "metadata": {},
   "outputs": [],
   "source": []
  }
 ],
 "metadata": {
  "kernelspec": {
   "display_name": "venv",
   "language": "python",
   "name": "python3"
  },
  "language_info": {
   "codemirror_mode": {
    "name": "ipython",
    "version": 3
   },
   "file_extension": ".py",
   "mimetype": "text/x-python",
   "name": "python",
   "nbconvert_exporter": "python",
   "pygments_lexer": "ipython3",
   "version": "3.11.3"
  }
 },
 "nbformat": 4,
 "nbformat_minor": 2
}
